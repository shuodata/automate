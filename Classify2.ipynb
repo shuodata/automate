{
 "cells": [
  {
   "cell_type": "code",
   "execution_count": 1,
   "metadata": {
    "collapsed": false
   },
   "outputs": [
    {
     "name": "stderr",
     "output_type": "stream",
     "text": [
      "/home/joaquin/anaconda2/lib/python2.7/site-packages/sklearn/cross_validation.py:44: DeprecationWarning: This module was deprecated in version 0.18 in favor of the model_selection module into which all the refactored classes and functions are moved. Also note that the interface of the new CV iterators are different from that of this module. This module will be removed in 0.20.\n",
      "  \"This module will be removed in 0.20.\", DeprecationWarning)\n",
      "/home/joaquin/anaconda2/lib/python2.7/site-packages/sklearn/learning_curve.py:23: DeprecationWarning: This module was deprecated in version 0.18 in favor of the model_selection module into which all the functions are moved. This module will be removed in 0.20\n",
      "  DeprecationWarning)\n"
     ]
    }
   ],
   "source": [
    "__author__ = 'ShuoData: https://www.kaggle.com/shuodata'\n",
    "\n",
    "#just ignore the warnings\n",
    "import warnings\n",
    "warnings.filterwarnings('ignore')\n",
    "warnings.filterwarnings(\"ignore\", category=DeprecationWarning)\n",
    "\n",
    "import pandas as pd\n",
    "import sys\n",
    "import visuals as vs\n",
    "import renders as rs\n",
    "from library import *\n",
    "from cleandf import *\n",
    "from someclf import *\n",
    "\n",
    "\n"
   ]
  },
  {
   "cell_type": "code",
   "execution_count": 2,
   "metadata": {
    "collapsed": false
   },
   "outputs": [],
   "source": [
    "df_test = Load_DataFrames('/Data/total.xlsx','DF_2')\n",
    "df_train = Load_DataFrames('/Data/total.xlsx','DF_1')"
   ]
  },
  {
   "cell_type": "code",
   "execution_count": 3,
   "metadata": {
    "collapsed": false
   },
   "outputs": [
    {
     "data": {
      "text/html": [
       "<div>\n",
       "<table border=\"1\" class=\"dataframe\">\n",
       "  <thead>\n",
       "    <tr style=\"text-align: right;\">\n",
       "      <th></th>\n",
       "      <th>people_id</th>\n",
       "      <th>activity_id</th>\n",
       "      <th>date_t</th>\n",
       "      <th>char_1_t</th>\n",
       "      <th>char_2_t</th>\n",
       "      <th>char_3_t</th>\n",
       "      <th>char_4_t</th>\n",
       "      <th>char_5_t</th>\n",
       "      <th>char_6_t</th>\n",
       "      <th>char_7_t</th>\n",
       "      <th>...</th>\n",
       "      <th>char_33</th>\n",
       "      <th>char_34</th>\n",
       "      <th>char_35</th>\n",
       "      <th>char_36</th>\n",
       "      <th>char_37</th>\n",
       "      <th>char_38</th>\n",
       "      <th>min_date</th>\n",
       "      <th>max_date</th>\n",
       "      <th>apg</th>\n",
       "      <th>ppg</th>\n",
       "    </tr>\n",
       "  </thead>\n",
       "  <tbody>\n",
       "    <tr>\n",
       "      <th>0</th>\n",
       "      <td>ppl_100</td>\n",
       "      <td>act2_1734928</td>\n",
       "      <td>1193</td>\n",
       "      <td>0</td>\n",
       "      <td>0</td>\n",
       "      <td>0</td>\n",
       "      <td>0</td>\n",
       "      <td>0</td>\n",
       "      <td>0</td>\n",
       "      <td>0</td>\n",
       "      <td>...</td>\n",
       "      <td>0</td>\n",
       "      <td>1</td>\n",
       "      <td>1</td>\n",
       "      <td>1</td>\n",
       "      <td>0</td>\n",
       "      <td>36</td>\n",
       "      <td>0</td>\n",
       "      <td>1198</td>\n",
       "      <td>685757</td>\n",
       "      <td>53342</td>\n",
       "    </tr>\n",
       "    <tr>\n",
       "      <th>1</th>\n",
       "      <td>ppl_100</td>\n",
       "      <td>act2_2434093</td>\n",
       "      <td>860</td>\n",
       "      <td>0</td>\n",
       "      <td>0</td>\n",
       "      <td>0</td>\n",
       "      <td>0</td>\n",
       "      <td>0</td>\n",
       "      <td>0</td>\n",
       "      <td>0</td>\n",
       "      <td>...</td>\n",
       "      <td>0</td>\n",
       "      <td>1</td>\n",
       "      <td>1</td>\n",
       "      <td>1</td>\n",
       "      <td>0</td>\n",
       "      <td>36</td>\n",
       "      <td>0</td>\n",
       "      <td>1198</td>\n",
       "      <td>685757</td>\n",
       "      <td>53342</td>\n",
       "    </tr>\n",
       "    <tr>\n",
       "      <th>2</th>\n",
       "      <td>ppl_100</td>\n",
       "      <td>act2_3404049</td>\n",
       "      <td>860</td>\n",
       "      <td>0</td>\n",
       "      <td>0</td>\n",
       "      <td>0</td>\n",
       "      <td>0</td>\n",
       "      <td>0</td>\n",
       "      <td>0</td>\n",
       "      <td>0</td>\n",
       "      <td>...</td>\n",
       "      <td>0</td>\n",
       "      <td>1</td>\n",
       "      <td>1</td>\n",
       "      <td>1</td>\n",
       "      <td>0</td>\n",
       "      <td>36</td>\n",
       "      <td>0</td>\n",
       "      <td>1198</td>\n",
       "      <td>685757</td>\n",
       "      <td>53342</td>\n",
       "    </tr>\n",
       "    <tr>\n",
       "      <th>3</th>\n",
       "      <td>ppl_100</td>\n",
       "      <td>act2_3651215</td>\n",
       "      <td>1171</td>\n",
       "      <td>0</td>\n",
       "      <td>0</td>\n",
       "      <td>0</td>\n",
       "      <td>0</td>\n",
       "      <td>0</td>\n",
       "      <td>0</td>\n",
       "      <td>0</td>\n",
       "      <td>...</td>\n",
       "      <td>0</td>\n",
       "      <td>1</td>\n",
       "      <td>1</td>\n",
       "      <td>1</td>\n",
       "      <td>0</td>\n",
       "      <td>36</td>\n",
       "      <td>0</td>\n",
       "      <td>1198</td>\n",
       "      <td>685757</td>\n",
       "      <td>53342</td>\n",
       "    </tr>\n",
       "    <tr>\n",
       "      <th>4</th>\n",
       "      <td>ppl_100</td>\n",
       "      <td>act2_4109017</td>\n",
       "      <td>1193</td>\n",
       "      <td>0</td>\n",
       "      <td>0</td>\n",
       "      <td>0</td>\n",
       "      <td>0</td>\n",
       "      <td>0</td>\n",
       "      <td>0</td>\n",
       "      <td>0</td>\n",
       "      <td>...</td>\n",
       "      <td>0</td>\n",
       "      <td>1</td>\n",
       "      <td>1</td>\n",
       "      <td>1</td>\n",
       "      <td>0</td>\n",
       "      <td>36</td>\n",
       "      <td>0</td>\n",
       "      <td>1198</td>\n",
       "      <td>685757</td>\n",
       "      <td>53342</td>\n",
       "    </tr>\n",
       "  </tbody>\n",
       "</table>\n",
       "<p>5 rows × 69 columns</p>\n",
       "</div>"
      ],
      "text/plain": [
       "  people_id   activity_id  date_t  char_1_t  char_2_t  char_3_t  char_4_t  \\\n",
       "0   ppl_100  act2_1734928    1193         0         0         0         0   \n",
       "1   ppl_100  act2_2434093     860         0         0         0         0   \n",
       "2   ppl_100  act2_3404049     860         0         0         0         0   \n",
       "3   ppl_100  act2_3651215    1171         0         0         0         0   \n",
       "4   ppl_100  act2_4109017    1193         0         0         0         0   \n",
       "\n",
       "   char_5_t  char_6_t  char_7_t  ...    char_33  char_34  char_35  char_36  \\\n",
       "0         0         0         0  ...          0        1        1        1   \n",
       "1         0         0         0  ...          0        1        1        1   \n",
       "2         0         0         0  ...          0        1        1        1   \n",
       "3         0         0         0  ...          0        1        1        1   \n",
       "4         0         0         0  ...          0        1        1        1   \n",
       "\n",
       "   char_37  char_38  min_date  max_date     apg    ppg  \n",
       "0        0       36         0      1198  685757  53342  \n",
       "1        0       36         0      1198  685757  53342  \n",
       "2        0       36         0      1198  685757  53342  \n",
       "3        0       36         0      1198  685757  53342  \n",
       "4        0       36         0      1198  685757  53342  \n",
       "\n",
       "[5 rows x 69 columns]"
      ]
     },
     "metadata": {},
     "output_type": "display_data"
    },
    {
     "data": {
      "text/html": [
       "<div>\n",
       "<table border=\"1\" class=\"dataframe\">\n",
       "  <thead>\n",
       "    <tr style=\"text-align: right;\">\n",
       "      <th></th>\n",
       "      <th>people_id</th>\n",
       "      <th>activity_id</th>\n",
       "      <th>date_t</th>\n",
       "      <th>char_1_t</th>\n",
       "      <th>char_2_t</th>\n",
       "      <th>char_3_t</th>\n",
       "      <th>char_4_t</th>\n",
       "      <th>char_5_t</th>\n",
       "      <th>char_6_t</th>\n",
       "      <th>char_7_t</th>\n",
       "      <th>...</th>\n",
       "      <th>char_33</th>\n",
       "      <th>char_34</th>\n",
       "      <th>char_35</th>\n",
       "      <th>char_36</th>\n",
       "      <th>char_37</th>\n",
       "      <th>char_38</th>\n",
       "      <th>min_date</th>\n",
       "      <th>max_date</th>\n",
       "      <th>apg</th>\n",
       "      <th>ppg</th>\n",
       "    </tr>\n",
       "  </thead>\n",
       "  <tbody>\n",
       "    <tr>\n",
       "      <th>0</th>\n",
       "      <td>ppl_100004</td>\n",
       "      <td>act1_249281</td>\n",
       "      <td>791</td>\n",
       "      <td>5</td>\n",
       "      <td>10</td>\n",
       "      <td>5</td>\n",
       "      <td>1</td>\n",
       "      <td>6</td>\n",
       "      <td>1</td>\n",
       "      <td>1</td>\n",
       "      <td>...</td>\n",
       "      <td>1</td>\n",
       "      <td>1</td>\n",
       "      <td>1</td>\n",
       "      <td>1</td>\n",
       "      <td>1</td>\n",
       "      <td>76</td>\n",
       "      <td>791</td>\n",
       "      <td>791</td>\n",
       "      <td>2</td>\n",
       "      <td>1</td>\n",
       "    </tr>\n",
       "    <tr>\n",
       "      <th>1</th>\n",
       "      <td>ppl_100004</td>\n",
       "      <td>act2_230855</td>\n",
       "      <td>791</td>\n",
       "      <td>0</td>\n",
       "      <td>0</td>\n",
       "      <td>0</td>\n",
       "      <td>0</td>\n",
       "      <td>0</td>\n",
       "      <td>0</td>\n",
       "      <td>0</td>\n",
       "      <td>...</td>\n",
       "      <td>1</td>\n",
       "      <td>1</td>\n",
       "      <td>1</td>\n",
       "      <td>1</td>\n",
       "      <td>1</td>\n",
       "      <td>76</td>\n",
       "      <td>791</td>\n",
       "      <td>791</td>\n",
       "      <td>2</td>\n",
       "      <td>1</td>\n",
       "    </tr>\n",
       "    <tr>\n",
       "      <th>2</th>\n",
       "      <td>ppl_10001</td>\n",
       "      <td>act1_240724</td>\n",
       "      <td>877</td>\n",
       "      <td>12</td>\n",
       "      <td>1</td>\n",
       "      <td>5</td>\n",
       "      <td>4</td>\n",
       "      <td>6</td>\n",
       "      <td>1</td>\n",
       "      <td>1</td>\n",
       "      <td>...</td>\n",
       "      <td>1</td>\n",
       "      <td>1</td>\n",
       "      <td>1</td>\n",
       "      <td>1</td>\n",
       "      <td>1</td>\n",
       "      <td>90</td>\n",
       "      <td>532</td>\n",
       "      <td>931</td>\n",
       "      <td>54</td>\n",
       "      <td>4</td>\n",
       "    </tr>\n",
       "    <tr>\n",
       "      <th>3</th>\n",
       "      <td>ppl_10001</td>\n",
       "      <td>act1_83552</td>\n",
       "      <td>921</td>\n",
       "      <td>20</td>\n",
       "      <td>10</td>\n",
       "      <td>5</td>\n",
       "      <td>4</td>\n",
       "      <td>6</td>\n",
       "      <td>1</td>\n",
       "      <td>1</td>\n",
       "      <td>...</td>\n",
       "      <td>1</td>\n",
       "      <td>1</td>\n",
       "      <td>1</td>\n",
       "      <td>1</td>\n",
       "      <td>1</td>\n",
       "      <td>90</td>\n",
       "      <td>532</td>\n",
       "      <td>931</td>\n",
       "      <td>54</td>\n",
       "      <td>4</td>\n",
       "    </tr>\n",
       "    <tr>\n",
       "      <th>4</th>\n",
       "      <td>ppl_10001</td>\n",
       "      <td>act2_1043301</td>\n",
       "      <td>878</td>\n",
       "      <td>0</td>\n",
       "      <td>0</td>\n",
       "      <td>0</td>\n",
       "      <td>0</td>\n",
       "      <td>0</td>\n",
       "      <td>0</td>\n",
       "      <td>0</td>\n",
       "      <td>...</td>\n",
       "      <td>1</td>\n",
       "      <td>1</td>\n",
       "      <td>1</td>\n",
       "      <td>1</td>\n",
       "      <td>1</td>\n",
       "      <td>90</td>\n",
       "      <td>532</td>\n",
       "      <td>931</td>\n",
       "      <td>54</td>\n",
       "      <td>4</td>\n",
       "    </tr>\n",
       "  </tbody>\n",
       "</table>\n",
       "<p>5 rows × 68 columns</p>\n",
       "</div>"
      ],
      "text/plain": [
       "    people_id   activity_id  date_t  char_1_t  char_2_t  char_3_t  char_4_t  \\\n",
       "0  ppl_100004   act1_249281     791         5        10         5         1   \n",
       "1  ppl_100004   act2_230855     791         0         0         0         0   \n",
       "2   ppl_10001   act1_240724     877        12         1         5         4   \n",
       "3   ppl_10001    act1_83552     921        20        10         5         4   \n",
       "4   ppl_10001  act2_1043301     878         0         0         0         0   \n",
       "\n",
       "   char_5_t  char_6_t  char_7_t ...   char_33  char_34  char_35  char_36  \\\n",
       "0         6         1         1 ...         1        1        1        1   \n",
       "1         0         0         0 ...         1        1        1        1   \n",
       "2         6         1         1 ...         1        1        1        1   \n",
       "3         6         1         1 ...         1        1        1        1   \n",
       "4         0         0         0 ...         1        1        1        1   \n",
       "\n",
       "   char_37  char_38  min_date  max_date  apg  ppg  \n",
       "0        1       76       791       791    2    1  \n",
       "1        1       76       791       791    2    1  \n",
       "2        1       90       532       931   54    4  \n",
       "3        1       90       532       931   54    4  \n",
       "4        1       90       532       931   54    4  \n",
       "\n",
       "[5 rows x 68 columns]"
      ]
     },
     "metadata": {},
     "output_type": "display_data"
    }
   ],
   "source": [
    "from IPython.display import display # Allows the use of display() for DataFrames\n",
    "\n",
    "display(df_train.head())\n",
    "display(df_test.head())"
   ]
  },
  {
   "cell_type": "code",
   "execution_count": 4,
   "metadata": {
    "collapsed": true
   },
   "outputs": [],
   "source": [
    "cols = ['people_id', 'activity_id', 'min_date', 'max_date', 'apg', 'ppg', 'date_t', 'wd_t', 'acts', 'group_1',\\\n",
    "        'wd', 'date','char_1_t', 'char_2_t', 'char_3_t', 'char_4_t', 'char_5_t', 'char_6_t', 'char_7_t',\\\n",
    "        'char_8_t', 'char_9_t', 'char_10_t', 'act', 'ac_1', 'ac_2', 'ac_3', 'ac_4', 'ac_5', 'ac_6', 'ac_7',  \\\n",
    "        'char_1', 'char_2', 'char_3', 'char_4', 'char_5', 'char_6', 'char_7', 'char_8', 'char_9', 'char_10', \\\n",
    "        'char_11', 'char_12', 'char_13', 'char_14', 'char_15', 'char_16', 'char_17', 'char_18', 'char_19', \\\n",
    "        'char_20', 'char_21', 'char_22', 'char_23', 'char_24', 'char_25', 'char_26', 'char_27', 'char_28', \\\n",
    "        'char_29', 'char_30', 'char_31', 'char_32', 'char_33', 'char_34', 'char_35', 'char_36', 'char_37', 'char_38']"
   ]
  },
  {
   "cell_type": "code",
   "execution_count": 5,
   "metadata": {
    "collapsed": true
   },
   "outputs": [],
   "source": [
    "df_train = df_train[cols + ['outcome']]\n",
    "df_test = df_test[cols]"
   ]
  },
  {
   "cell_type": "code",
   "execution_count": 6,
   "metadata": {
    "collapsed": false
   },
   "outputs": [],
   "source": [
    "#df_train = df_train[df_train['group_1'] != 17304 ]"
   ]
  },
  {
   "cell_type": "code",
   "execution_count": 7,
   "metadata": {
    "collapsed": false
   },
   "outputs": [
    {
     "name": "stdout",
     "output_type": "stream",
     "text": [
      "Extracting features and outcome from DataFrame...\n"
     ]
    }
   ],
   "source": [
    "print \"Extracting features and outcome from DataFrame...\"\n",
    "features = df_train.drop(['outcome','people_id','activity_id'], axis=1)\n",
    "outcome = df_train['outcome']\n",
    "\n",
    "df_train_droped = df_train.drop(['people_id','activity_id'], axis=1)\n",
    "\n",
    "df_test_droped = df_test.drop(['people_id','activity_id'], axis=1)\n",
    "\n",
    "## Produce a matrix for test data\n",
    "test_data = df_test.values.tolist()\n",
    "test_droped = df_test_droped.values.tolist()"
   ]
  },
  {
   "cell_type": "code",
   "execution_count": 8,
   "metadata": {
    "collapsed": false
   },
   "outputs": [
    {
     "name": "stdout",
     "output_type": "stream",
     "text": [
      "(1048575, 67)\n",
      "(498687, 66)\n"
     ]
    }
   ],
   "source": [
    "print(df_train_droped.shape)\n",
    "print(df_test_droped.shape)"
   ]
  },
  {
   "cell_type": "code",
   "execution_count": 9,
   "metadata": {
    "collapsed": true
   },
   "outputs": [],
   "source": [
    "X_train, y_train = features, outcome"
   ]
  },
  {
   "cell_type": "code",
   "execution_count": 10,
   "metadata": {
    "collapsed": true
   },
   "outputs": [],
   "source": [
    "params = {\n",
    "   # 'loss' : ('deviance', 'exponential'),\n",
    "    'n_estimators' : [10],\n",
    "    'max_depth':(60,63),\n",
    "    'max_features': ['auto']\n",
    "         }"
   ]
  },
  {
   "cell_type": "code",
   "execution_count": 11,
   "metadata": {
    "collapsed": false
   },
   "outputs": [],
   "source": [
    "from sklearn.ensemble import GradientBoostingClassifier\n",
    "\n",
    "def fit_model2(X, y, __params):\n",
    "    \"\"\" Performs grid search over the 'max_depth' parameter for a\n",
    "        decision tree regressor trained on the input data [X, y]. \"\"\"\n",
    "\n",
    "    __clf = GradientBoostingClassifier()\n",
    "\n",
    "    # Transform 'performance_metric' into a scoring function using 'make_scorer'\n",
    "    scoring_fnc = make_scorer(performance_metric, greater_is_better=True)\n",
    "\n",
    "    # Create the grid search object\n",
    "    grid = GridSearchCV(__clf, __params, scoring=scoring_fnc, verbose=True, n_jobs=4)\n",
    "\n",
    "    # Fit the grid search object to the data to compute the optimal model\n",
    "    grid = grid.fit(X, y)\n",
    "    print (\"Regresor: {},\\t Score: {}\".format('RandomForestClassifier',grid.best_score_))\n",
    "\n",
    "    # Return the optimal model after fitting the data\n",
    "    return grid.best_estimator_"
   ]
  },
  {
   "cell_type": "code",
   "execution_count": 12,
   "metadata": {
    "collapsed": false
   },
   "outputs": [
    {
     "name": "stdout",
     "output_type": "stream",
     "text": [
      "Fitting 3 folds for each of 2 candidates, totalling 6 fits\n"
     ]
    },
    {
     "name": "stderr",
     "output_type": "stream",
     "text": [
      "[Parallel(n_jobs=4)]: Done   6 out of   6 | elapsed: 133.8min remaining:    0.0s\n",
      "[Parallel(n_jobs=4)]: Done   6 out of   6 | elapsed: 133.8min finished\n"
     ]
    },
    {
     "name": "stdout",
     "output_type": "stream",
     "text": [
      "Regresor: RandomForestClassifier,\t Score: 0.617264992859\n"
     ]
    }
   ],
   "source": [
    "reg2 = fit_model2(X_train, y_train, params)"
   ]
  },
  {
   "cell_type": "code",
   "execution_count": 13,
   "metadata": {
    "collapsed": false
   },
   "outputs": [
    {
     "data": {
      "text/plain": [
       "['GBT.pkl']"
      ]
     },
     "execution_count": 13,
     "metadata": {},
     "output_type": "execute_result"
    }
   ],
   "source": [
    "from sklearn.externals import joblib\n",
    "joblib.dump(reg2, 'GBT.pkl') "
   ]
  },
  {
   "cell_type": "code",
   "execution_count": 14,
   "metadata": {
    "collapsed": true
   },
   "outputs": [],
   "source": [
    "y_pred = reg2.predict(df_test_droped)"
   ]
  },
  {
   "cell_type": "code",
   "execution_count": 15,
   "metadata": {
    "collapsed": false
   },
   "outputs": [
    {
     "name": "stdout",
     "output_type": "stream",
     "text": [
      "Saving submission for GBT at 20161112132913...\n"
     ]
    }
   ],
   "source": [
    "CreateSubmission(df_test, y_pred,\"GBT\")"
   ]
  },
  {
   "cell_type": "code",
   "execution_count": 19,
   "metadata": {
    "collapsed": true
   },
   "outputs": [],
   "source": [
    "def CreateSubmission_wo(__df_test, __y_pred,__csf):\n",
    "    now = datetime.datetime.now()\n",
    "    activity_id = __df_test['activity_id'].values.tolist()\n",
    "    group_1 = __df_test['group_1'].values.tolist()\n",
    "    d = {'activity_id' : activity_id,\n",
    "     'group_1': group_1,\n",
    "     'outcome' : __y_pred}\n",
    "    submission = pd.DataFrame(d)\n",
    "    #submission.loc[submission['group_1'] == 17304,'outcome' ] = 0\n",
    "\n",
    "    submission = submission.drop('group_1', axis=1)\n",
    "    submission['outcome'] = submission['outcome'].astype(int)\n",
    "    print \"Saving submission for {} at {}...\".format(__csf, now.strftime(\"%Y%m%d%H%M%S\" ))\n",
    "    submission.to_csv(\"./Data/submission-{}-{}.csv\".format(now.strftime(\"%Y%m%d%H%M%S\"), __csf), sep=',', index=False)\n"
   ]
  },
  {
   "cell_type": "code",
   "execution_count": 20,
   "metadata": {
    "collapsed": false
   },
   "outputs": [
    {
     "name": "stdout",
     "output_type": "stream",
     "text": [
      "Saving submission for GBT at 20161112174802...\n"
     ]
    }
   ],
   "source": [
    "CreateSubmission_wo(df_test, y_pred,\"GBT\")"
   ]
  },
  {
   "cell_type": "code",
   "execution_count": null,
   "metadata": {
    "collapsed": true
   },
   "outputs": [],
   "source": []
  }
 ],
 "metadata": {
  "anaconda-cloud": {},
  "kernelspec": {
   "display_name": "Python [default]",
   "language": "python",
   "name": "python2"
  },
  "language_info": {
   "codemirror_mode": {
    "name": "ipython",
    "version": 2
   },
   "file_extension": ".py",
   "mimetype": "text/x-python",
   "name": "python",
   "nbconvert_exporter": "python",
   "pygments_lexer": "ipython2",
   "version": "2.7.12"
  }
 },
 "nbformat": 4,
 "nbformat_minor": 1
}
